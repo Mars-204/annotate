{
 "cells": [
  {
   "cell_type": "code",
   "execution_count": 2,
   "metadata": {},
   "outputs": [],
   "source": [
    "import cv2\n",
    "import torch\n",
    "import os\n",
    "from pathlib import Path\n",
    "from PIL import Image, ImageOps\n",
    "import numpy as np\n",
    "from pathlib import Path\n",
    "import matplotlib.pyplot as plt"
   ]
  },
  {
   "cell_type": "code",
   "execution_count": 42,
   "metadata": {},
   "outputs": [
    {
     "name": "stdout",
     "output_type": "stream",
     "text": [
      "uint16\n",
      "92\n",
      "219\n",
      "uint16\n"
     ]
    }
   ],
   "source": [
    "im = Path(r'D:/work/Nikolaus/data/trial/train/four_people_sv2_6041_00000127_comb.npy')\n",
    "im = np.load(im)\n",
    "i = np.zeros((424, 512, 2), dtype=np.uint16)\n",
    "y = im[:,:,0].astype(np.uint8)\n",
    "print(im[:,:,0].dtype)\n",
    "print(im[:,:,0].max())\n",
    "im[:,:,1] = ((im[:,:,1]/32000)*255).astype(np.uint8)\n",
    "im[:,:,1].astype(np.uint8)\n",
    "print(im[:,:,1].max())\n",
    "# im = np.dstack((x,y))\n",
    "print(im.dtype)\n"
   ]
  },
  {
   "cell_type": "code",
   "execution_count": 28,
   "metadata": {},
   "outputs": [],
   "source": [
    "np_uint16 = np.arange(2 ** 16, dtype=np.uint16).reshape(256, 256)\n",
    "np_uint8 = (np_uint16 // 256).astype(np.uint8)"
   ]
  }
 ],
 "metadata": {
  "kernelspec": {
   "display_name": "autodistill",
   "language": "python",
   "name": "python3"
  },
  "language_info": {
   "codemirror_mode": {
    "name": "ipython",
    "version": 3
   },
   "file_extension": ".py",
   "mimetype": "text/x-python",
   "name": "python",
   "nbconvert_exporter": "python",
   "pygments_lexer": "ipython3",
   "version": "3.11.6"
  }
 },
 "nbformat": 4,
 "nbformat_minor": 2
}
